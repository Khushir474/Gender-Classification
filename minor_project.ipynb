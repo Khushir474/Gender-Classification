{
  "nbformat": 4,
  "nbformat_minor": 0,
  "metadata": {
    "colab": {
      "name": "minor_project.ipynb",
      "provenance": [],
      "collapsed_sections": [],
      "authorship_tag": "ABX9TyNMOZQqDQtO8E/gL0HmC0hl",
      "include_colab_link": true
    },
    "kernelspec": {
      "name": "python3",
      "display_name": "Python 3"
    },
    "language_info": {
      "name": "python"
    }
  },
  "cells": [
    {
      "cell_type": "markdown",
      "metadata": {
        "id": "view-in-github",
        "colab_type": "text"
      },
      "source": [
        "<a href=\"https://colab.research.google.com/github/voideans/Gender_Classification_DataScience/blob/main/minor_project.ipynb\" target=\"_parent\"><img src=\"https://colab.research.google.com/assets/colab-badge.svg\" alt=\"Open In Colab\"/></a>"
      ]
    },
    {
      "cell_type": "code",
      "source": [
        "import pandas as pd\n",
        "import matplotlib.pyplot as plt\n",
        "from sklearn.tree import DecisionTreeClassifier\n",
        "from sklearn.neighbors import KNeighborsClassifier\n",
        "from sklearn.model_selection import GridSearchCV\n",
        "from sklearn import metrics\n",
        "import seaborn as sns\n",
        "\n",
        "from google.colab import files\n",
        "data = pd.read_csv('https://raw.githubusercontent.com/voideans/Gender_Classification_DataScience/main/voice.csv')"
      ],
      "metadata": {
        "id": "YdMY-fEH6Uh2"
      },
      "execution_count": 140,
      "outputs": []
    },
    {
      "cell_type": "code",
      "source": [
        "#finding stats of missing values\n",
        "print(data.isnull().sum())\n",
        "print(\"\\ntotal missing values are:\",data.isnull().sum().sum())"
      ],
      "metadata": {
        "colab": {
          "base_uri": "https://localhost:8080/"
        },
        "id": "tjWl2X9G9d0q",
        "outputId": "fa046bfb-0e54-48c7-af26-2ecf7bcaa4d9"
      },
      "execution_count": 141,
      "outputs": [
        {
          "output_type": "stream",
          "name": "stdout",
          "text": [
            "meanfreq    0\n",
            "sd          0\n",
            "median      0\n",
            "Q25         0\n",
            "Q75         0\n",
            "IQR         0\n",
            "skew        0\n",
            "kurt        0\n",
            "sp.ent      0\n",
            "sfm         0\n",
            "mode        0\n",
            "centroid    0\n",
            "meanfun     0\n",
            "minfun      0\n",
            "maxfun      0\n",
            "meandom     0\n",
            "mindom      0\n",
            "maxdom      0\n",
            "dfrange     0\n",
            "modindx     0\n",
            "label       0\n",
            "dtype: int64\n",
            "\n",
            "total missing values are: 0\n"
          ]
        }
      ]
    },
    {
      "cell_type": "code",
      "source": [
        "# converting to male=1, female=0\n",
        "# %matplotlib inline\n",
        "# %%capture\n",
        "data=pd.DataFrame(data)\n",
        "data['label'].replace('female',0,inplace=True)\n",
        "data['label'].replace('male',1,inplace=True)\n",
        "\n",
        "'''\n",
        "# replacing null values with mean of the respective column\n",
        "n=len(data.columns)-1\n",
        "for i in [0,n]:\n",
        "    data.iloc[:,i]=data.iloc[:,i].fillna(data.iloc[:,i].mean())\n",
        "'''\n"
      ],
      "metadata": {
        "colab": {
          "base_uri": "https://localhost:8080/",
          "height": 36
        },
        "id": "0JEueeu_JHBF",
        "outputId": "e01c60fc-fe9c-40ca-eda2-f569a4b91891"
      },
      "execution_count": 142,
      "outputs": [
        {
          "output_type": "execute_result",
          "data": {
            "text/plain": [
              "'\\n# replacing null values with mean of the respective column\\nn=len(data.columns)-1\\nfor i in [0,n]:\\n    data.iloc[:,i]=data.iloc[:,i].fillna(data.iloc[:,i].mean())\\n'"
            ],
            "application/vnd.google.colaboratory.intrinsic+json": {
              "type": "string"
            }
          },
          "metadata": {},
          "execution_count": 142
        }
      ]
    },
    {
      "cell_type": "code",
      "source": [
        "# pie chart\n",
        "\n",
        "fem = (data['label'] == 0).sum()\n",
        "mal = (data['label'] == 1).sum()\n",
        "\n",
        "val = [mal,fem]\n",
        "lab = ['male','female']\n",
        "plt.pie(val, labels=lab, autopct='%1.1f%%')\n",
        "plt.title('Label - gender distribution')\n",
        "plt.show()"
      ],
      "metadata": {
        "colab": {
          "base_uri": "https://localhost:8080/",
          "height": 264
        },
        "id": "7bX_K66URkRT",
        "outputId": "7ed448ce-9255-4867-c0f5-5544f53a7b72"
      },
      "execution_count": 143,
      "outputs": [
        {
          "output_type": "display_data",
          "data": {
            "text/plain": [
              "<Figure size 432x288 with 1 Axes>"
            ],
            "image/png": "[encoded data removed]"
          },
          "metadata": {}
        }
      ]
    },
    {
      "cell_type": "code",
      "source": [
        "# splitting data into test and train\n",
        "\n",
        "from sklearn.model_selection import train_test_split\n",
        "x = data.drop('label',axis=1) \n",
        "y = data['label']\n",
        "x_train, x_test, y_train, y_test = train_test_split(x,y,test_size=0.2,random_state=4)"
      ],
      "metadata": {
        "id": "QnsKXH5UsjSu"
      },
      "execution_count": 144,
      "outputs": []
    },
    {
      "cell_type": "code",
      "source": [
        "# Standardization\n",
        "\n",
        "from sklearn.preprocessing import StandardScaler\n",
        "sc1 = StandardScaler()\n",
        "x_train = sc1.fit_transform(x_train)\n",
        "x_test = sc1.fit_transform(x_test)\n",
        "\n",
        "print(\"\\ntraining data:\\nmean = \",x_train.mean(),\"\\nstd div = \",x_train.std())\n",
        "print(\"\\ntest data:\\nmean = \",x_test.mean(),\"\\nstd div = \",x_test.std())\n",
        "\n",
        "if((x_train.std() == 1) and (x_test.std() == 1)):\n",
        "    print(\"\\nData is standardized successfully\")"
      ],
      "metadata": {
        "colab": {
          "base_uri": "https://localhost:8080/"
        },
        "id": "Su0vt6Nu3Wj0",
        "outputId": "39b2f054-29dd-4513-e240-2450f3305d4d"
      },
      "execution_count": 145,
      "outputs": [
        {
          "output_type": "stream",
          "name": "stdout",
          "text": [
            "\n",
            "training data:\n",
            "mean =  2.0700796159230228e-16 \n",
            "std div =  1.0\n",
            "\n",
            "test data:\n",
            "mean =  -7.957182056619419e-17 \n",
            "std div =  1.0\n",
            "\n",
            "Data is standardized successfully\n"
          ]
        }
      ]
    },
    {
      "cell_type": "code",
      "source": [
        "# 1 - Decision Tree Classifier\n",
        "\n",
        "# Using gini index\n",
        "data_gini = DecisionTreeClassifier(criterion = \"gini\",random_state = 100,max_depth=3, min_samples_leaf=5)\n",
        "data_gini.fit(x_train, y_train)\n",
        "y_pred_gini = data_gini.predict(x_test) # predicting y\n",
        "\n",
        "# Using Entropy\n",
        "data_ent = DecisionTreeClassifier(criterion = \"entropy\",random_state = 100,max_depth=3, min_samples_leaf=5)\n",
        "data_ent.fit(x_train, y_train)\n",
        "y_pred_ent = data_gini.predict(x_test) # predicting y\n",
        "\n",
        "\n",
        "### Confusion Matrix\n",
        "\n",
        "# representing gini impurity in confusion matrix\n",
        "from sklearn.metrics import confusion_matrix\n",
        "cm1 = confusion_matrix(y_test, y_pred_gini)\n",
        "print(\"Confusion Matrix: (entropy)\\n\",cm1)\n",
        "\n",
        "### stats\n",
        "\n",
        "TN1 = cm1[0][0]\n",
        "FN1 = cm1[0][1]\n",
        "FP1 = cm1[1][0]\n",
        "TP1 = cm1[1][1]\n",
        "\n",
        "# all true values by total values\n",
        "accu1 = (TP1 + TN1) / (TP1 + TN1 + FP1 + FN1)*100\n",
        "# actual positives that got predicted as positive\n",
        "sensitivity1 = TP1 / (TP1 + FN1 )* 100\n",
        "# actual negatives that got predicted as negative\n",
        "specificity1 = TN1/(TN1 + FP1)*100\n",
        "# positive predictive value - proportion of all positively classifed cases that were truly positive\n",
        "ppv1 = TP1 / (TP1 + FP1) *100\n",
        "# positive predictive value - proportion of all negatively classifed cases that were truly negative\n",
        "npv1 = TN1 / (TN1 + FN1) *100\n"
      ],
      "metadata": {
        "colab": {
          "base_uri": "https://localhost:8080/"
        },
        "id": "rLNp5sqVBdgT",
        "outputId": "7b5ef009-b84f-4e5d-f42b-4709e26b55e8"
      },
      "execution_count": 146,
      "outputs": [
        {
          "output_type": "stream",
          "name": "stdout",
          "text": [
            "Confusion Matrix: (entropy)\n",
            " [[301  13]\n",
            " [ 10 310]]\n"
          ]
        }
      ]
    },
    {
      "cell_type": "code",
      "source": [
        "# 2 - Random Forest Classifier\n",
        "\n",
        "\n",
        "from sklearn.ensemble import RandomForestClassifier\n",
        "\n",
        "data_rfc = RandomForestClassifier(n_estimators = 100) \n",
        " \n",
        "# Fitting the model\n",
        "data_rfc.fit(x_train, y_train)\n",
        " \n",
        "# performing predictions\n",
        "y_pred_rfc = data_rfc.predict(x_test)\n",
        "\n",
        "# #accuracy\n",
        "# from sklearn import metrics\n",
        "# print(\"accuracy of Random Forest: \", metrics.accuracy_score(y_test, y_pred_rfc))\n",
        "\n",
        "\n",
        "# Confusion Matrix\n",
        "cm2 = confusion_matrix(y_test, y_pred_rfc)\n",
        "print(\"Confusion Matrix: (Random Forest)\\n\",cm2)\n",
        "\n",
        "### stats\n",
        "\n",
        "TN2 = cm2[0][0]\n",
        "FN2 = cm2[0][1]\n",
        "FP2 = cm2[1][0]\n",
        "TP2 = cm2[1][1]\n",
        "\n",
        "accu2 = (TP2 + TN2) / (TP2 + TN2 + FP2 + FN2)*100\n",
        "sensitivity2 = TP2 / (TP2+FN2)* 100\n",
        "specificity2 = TN2/(TN2 + FP2)*100\n",
        "ppv2 = TP2 / (TP2+FP2) *100\n",
        "npv2 = TN2 / (TN2+FN2) *100\n"
      ],
      "metadata": {
        "colab": {
          "base_uri": "https://localhost:8080/"
        },
        "id": "MfBGxnr2FRj2",
        "outputId": "52e5a5b5-a8e1-4e29-c2af-84b651890c56"
      },
      "execution_count": 147,
      "outputs": [
        {
          "output_type": "stream",
          "name": "stdout",
          "text": [
            "Confusion Matrix: (Random Forest)\n",
            " [[313   1]\n",
            " [ 10 310]]\n"
          ]
        }
      ]
    },
    {
      "cell_type": "code",
      "source": [
        "# 3 - KNN\n",
        "\n",
        "knn = KNeighborsClassifier\n",
        "grid_params = {'n_neighbors': [3,5,7,9,11], 'weights': ['uniform','distance'] , 'metric' : ['euclidean', 'manhattan']  }\n",
        "gs = GridSearchCV(knn() , grid_params , cv = 4 , scoring='accuracy')\n",
        "gs_results = gs.fit(x_train, y_train)\n",
        "\n",
        "model = gs_results.best_estimator_\n",
        "model.score(x_test, y_test)\n",
        "\n",
        "print(\"Best parameters chosen are:\\n\",gs_results.best_params_)\n",
        "\n",
        "### Confusion Matrix\n",
        "\n",
        "y_pred_knn = model.predict(x_test)\n",
        "cm3 = metrics.confusion_matrix(y_test,y_pred_knn)\n",
        "cm3 = pd.DataFrame(cm3)\n",
        "sns.heatmap(cm3, annot=True)\n",
        "plt.show()\n",
        "print(confusion_matrix(y_test, y_pred_knn))\n",
        "\n",
        "### stats\n",
        "\n",
        "TN3 = cm3[0][0]\n",
        "FN3 = cm3[0][1]\n",
        "FP3 = cm3[1][0]\n",
        "TP3 = cm3[1][1]\n",
        "\n",
        "accu3 = (TP3 + TN3) / (TP3 + TN3 + FP3 + FN3)*100\n",
        "sensitivity3 = TP3 / (TP3+FN3 )* 100\n",
        "specificity3 = TN3/(TN3 + FP3)*100\n",
        "ppv3 = TP3 / (TP3+FP3) *100\n",
        "npv3 = TN3 / (TN3+FN3) *100\n"
      ],
      "metadata": {
        "colab": {
          "base_uri": "https://localhost:8080/",
          "height": 334
        },
        "id": "8XgVrCFoBi_Z",
        "outputId": "53eacd3a-2a66-4cda-f424-9963fcef15bd"
      },
      "execution_count": 149,
      "outputs": [
        {
          "output_type": "stream",
          "name": "stdout",
          "text": [
            "Best parameters chosen are:\n",
            " {'metric': 'manhattan', 'n_neighbors': 3, 'weights': 'uniform'}\n"
          ]
        },
        {
          "output_type": "display_data",
          "data": {
            "text/plain": [
              "<Figure size 432x288 with 2 Axes>"
            ],
            "image/png": "[encoded data removed]"
          },
          "metadata": {
            "needs_background": "light"
          }
        },
        {
          "output_type": "stream",
          "name": "stdout",
          "text": [
            "[[311   3]\n",
            " [  9 311]]\n"
          ]
        }
      ]
    },
    {
      "cell_type": "code",
      "source": [
        "# 4 - Logistic Regression\n",
        "\n",
        "\n",
        "from sklearn.linear_model import LogisticRegression\n",
        "from sklearn.metrics import classification_report\n",
        "classifier = LogisticRegression(random_state = 0)\n",
        "classifier.fit(x_train, y_train)\n",
        "\n",
        "y_pred_logistic = classifier.predict(x_test)\n",
        "\n",
        "### Confusion Matrix\n",
        "\n",
        "cm4 = confusion_matrix(y_test, y_pred_logistic)\n",
        "print(\"Confusion Matrix: (Random Forest)\\n\",cm2)\n",
        "\n",
        "### stats\n",
        "\n",
        "TN4 = cm4[0][0]\n",
        "FN4 = cm4[0][1]\n",
        "FP4 = cm4[1][0]\n",
        "TP4 = cm4[1][1]\n",
        "\n",
        "accu4 = (TP4 + TN4) / (TP4 + TN4 + FP4 + FN4)*100\n",
        "sensitivity4 = TP4 / (TP4+FN4)* 100\n",
        "specificity4 = TN4/(TN4 + FP4)*100\n",
        "ppv4 = TP4 / (TP4+FP4) *100\n",
        "npv4 = TN4 / (TN4+FN4) *100\n"
      ],
      "metadata": {
        "colab": {
          "base_uri": "https://localhost:8080/"
        },
        "id": "azdsT7gbFWue",
        "outputId": "9afca3ac-892f-4252-be10-4e72b59d008b"
      },
      "execution_count": 150,
      "outputs": [
        {
          "output_type": "stream",
          "name": "stdout",
          "text": [
            "Confusion Matrix: (Random Forest)\n",
            " [[313   1]\n",
            " [ 10 310]]\n"
          ]
        }
      ]
    },
    {
      "cell_type": "code",
      "source": [
        "# 5 - SVM Classifier\n",
        "\n",
        "from sklearn import svm\n",
        "\n",
        "#Create a svm Classifier\n",
        "clf = svm.SVC(kernel='linear') # Linear Kernel\n",
        "\n",
        "#Train the model \n",
        "clf.fit(x_train, y_train)\n",
        "\n",
        "#Predict \n",
        "y_pred_svm = clf.predict(x_test)\n",
        "\n",
        "### Confusion Matrix\n",
        "cm5 = confusion_matrix(y_test, y_pred_svm)\n",
        "print(\"Confusion Matrix: (SVM))\\n\",cm5)\n",
        "\n",
        "### stats\n",
        "\n",
        "TN5 = cm5[0][0]\n",
        "FN5 = cm5[0][1]\n",
        "FP5 = cm5[1][0]\n",
        "TP5 = cm5[1][1]\n",
        "\n",
        "accu5 = (TP5 + TN5) / (TP5 + TN5 + FP5 + FN5)*100\n",
        "sensitivity5 = TP5 / (TP5+FN5)* 100\n",
        "specificity5 = TN5/(TN5 + FP5)*100\n",
        "ppv5 = TP5 / (TP5+FP5) *100\n",
        "npv5 = TN5 / (TN5+FN5) *100"
      ],
      "metadata": {
        "id": "hg7WHiK6FaM8",
        "colab": {
          "base_uri": "https://localhost:8080/"
        },
        "outputId": "64f8f0f1-a407-433c-b5f2-79aacd688db3"
      },
      "execution_count": 151,
      "outputs": [
        {
          "output_type": "stream",
          "name": "stdout",
          "text": [
            "Confusion Matrix: (SVM))\n",
            " [[306   8]\n",
            " [ 12 308]]\n"
          ]
        }
      ]
    },
    {
      "cell_type": "code",
      "source": [
        "# Results\n",
        "\n",
        "from tabulate import tabulate\n",
        "info = {'Dataset': ['Decision Tree','Random Forest','KNN','Logistic Regression','SVM'],\n",
        "        'Accuracy %':[accu1,accu2,accu3,accu4,accu5],\n",
        "        'Sensitivity %': [sensitivity1,sensitivity2,sensitivity3,sensitivity4,sensitivity5],\n",
        "        'Specificity %': [specificity1,specificity2,specificity3,specificity4,specificity5],\n",
        "        'positive predictive value in %':[ppv1,ppv2,ppv3,ppv4,ppv5],\n",
        "        'negative predictive value in %':[npv1,npv2,npv3,npv4,npv5]}\n",
        "print(tabulate(info, headers='keys', tablefmt='fancy_grid'))\n",
        "\n",
        "print(\"\\nDecision Tree Classifier:\\n\",classification_report(y_test, y_pred_gini))\n",
        "print(\"\\nRandom Forest:\\n\",classification_report(y_test, y_pred_rfc))\n",
        "print(\"\\nKNN:\\n\",classification_report(y_test, y_pred_knn))\n",
        "print(\"\\nLogistic Regression:\\n\",classification_report(y_test, y_pred_logistic))\n",
        "print(\"\\nSVM:\\n\",classification_report(y_test, y_pred_svm))"
      ],
      "metadata": {
        "id": "TY0HAhC1FoMZ",
        "colab": {
          "base_uri": "https://localhost:8080/"
        },
        "outputId": "8fa6ddb1-18c1-4e7a-d1d4-aad07bef36ae"
      },
      "execution_count": 152,
      "outputs": [
        {
          "output_type": "stream",
          "name": "stdout",
          "text": [
            "╒═════════════════════╤══════════════╤═════════════════╤═════════════════╤══════════════════════════════════╤══════════════════════════════════╕\n",
            "│ Dataset             │   Accuracy % │   Sensitivity % │   Specificity % │   positive predictive value in % │   negative predictive value in % │\n",
            "╞═════════════════════╪══════════════╪═════════════════╪═════════════════╪══════════════════════════════════╪══════════════════════════════════╡\n",
            "│ Decision Tree       │      96.3722 │         95.9752 │         96.7846 │                          96.875  │                          95.8599 │\n",
            "├─────────────────────┼──────────────┼─────────────────┼─────────────────┼──────────────────────────────────┼──────────────────────────────────┤\n",
            "│ Random Forest       │      98.265  │         99.6785 │         96.904  │                          96.875  │                          99.6815 │\n",
            "├─────────────────────┼──────────────┼─────────────────┼─────────────────┼──────────────────────────────────┼──────────────────────────────────┤\n",
            "│ KNN                 │      98.1073 │         97.1875 │         99.0446 │                          99.0446 │                          97.1875 │\n",
            "├─────────────────────┼──────────────┼─────────────────┼─────────────────┼──────────────────────────────────┼──────────────────────────────────┤\n",
            "│ Logistic Regression │      97.1609 │         97.4843 │         96.8354 │                          96.875  │                          97.4522 │\n",
            "├─────────────────────┼──────────────┼─────────────────┼─────────────────┼──────────────────────────────────┼──────────────────────────────────┤\n",
            "│ SVM                 │      96.8454 │         97.4684 │         96.2264 │                          96.25   │                          97.4522 │\n",
            "╘═════════════════════╧══════════════╧═════════════════╧═════════════════╧══════════════════════════════════╧══════════════════════════════════╛\n",
            "\n",
            "Decision Tree Classifier:\n",
            "               precision    recall  f1-score   support\n",
            "\n",
            "           0       0.97      0.96      0.96       314\n",
            "           1       0.96      0.97      0.96       320\n",
            "\n",
            "    accuracy                           0.96       634\n",
            "   macro avg       0.96      0.96      0.96       634\n",
            "weighted avg       0.96      0.96      0.96       634\n",
            "\n",
            "\n",
            "Random Forest:\n",
            "               precision    recall  f1-score   support\n",
            "\n",
            "           0       0.97      1.00      0.98       314\n",
            "           1       1.00      0.97      0.98       320\n",
            "\n",
            "    accuracy                           0.98       634\n",
            "   macro avg       0.98      0.98      0.98       634\n",
            "weighted avg       0.98      0.98      0.98       634\n",
            "\n",
            "\n",
            "KNN:\n",
            "               precision    recall  f1-score   support\n",
            "\n",
            "           0       0.97      0.99      0.98       314\n",
            "           1       0.99      0.97      0.98       320\n",
            "\n",
            "    accuracy                           0.98       634\n",
            "   macro avg       0.98      0.98      0.98       634\n",
            "weighted avg       0.98      0.98      0.98       634\n",
            "\n",
            "\n",
            "Logistic Regression:\n",
            "               precision    recall  f1-score   support\n",
            "\n",
            "           0       0.97      0.97      0.97       314\n",
            "           1       0.97      0.97      0.97       320\n",
            "\n",
            "    accuracy                           0.97       634\n",
            "   macro avg       0.97      0.97      0.97       634\n",
            "weighted avg       0.97      0.97      0.97       634\n",
            "\n",
            "\n",
            "SVM:\n",
            "               precision    recall  f1-score   support\n",
            "\n",
            "           0       0.96      0.97      0.97       314\n",
            "           1       0.97      0.96      0.97       320\n",
            "\n",
            "    accuracy                           0.97       634\n",
            "   macro avg       0.97      0.97      0.97       634\n",
            "weighted avg       0.97      0.97      0.97       634\n",
            "\n"
          ]
        }
      ]
    },
    {
      "cell_type": "code",
      "source": [
        "# Final Report\n",
        "res = {'Decision Tree':accu1,'Random Forest':accu2,'KNN':accu3,'Logistic Regression':accu4,'SVM':accu5}\n",
        "\n",
        "Keymax = max(zip(res.values(), res.keys()))[1]\n",
        "print(\"The algorithm with the highest accuracy is: \",Keymax)\n"
      ],
      "metadata": {
        "colab": {
          "base_uri": "https://localhost:8080/"
        },
        "id": "uNnp4EebhsAG",
        "outputId": "f1c96a75-519d-49d1-896c-658b15deae3a"
      },
      "execution_count": 153,
      "outputs": [
        {
          "output_type": "stream",
          "name": "stdout",
          "text": [
            "The algorithm with the highest accuracy is:  Random Forest\n"
          ]
        }
      ]
    }
  ]
}