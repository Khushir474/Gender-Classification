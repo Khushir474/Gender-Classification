{
  "nbformat": 4,
  "nbformat_minor": 0,
  "metadata": {
    "colab": {
      "name": "minor_project.ipynb",
      "provenance": [],
      "collapsed_sections": [],
      "authorship_tag": "ABX9TyPnsq6cqmfSVf62wbuITI4V",
      "include_colab_link": true
    },
    "kernelspec": {
      "name": "python3",
      "display_name": "Python 3"
    },
    "language_info": {
      "name": "python"
    }
  },
  "cells": [
    {
      "cell_type": "markdown",
      "metadata": {
        "id": "view-in-github",
        "colab_type": "text"
      },
      "source": [
        "<a href=\"https://colab.research.google.com/github/voideans/Gender_Classification_DataScience/blob/main/minor_project.ipynb\" target=\"_parent\"><img src=\"https://colab.research.google.com/assets/colab-badge.svg\" alt=\"Open In Colab\"/></a>"
      ]
    },
    {
      "cell_type": "code",
      "source": [
        "import pandas as pd\n",
        "import matplotlib.pyplot as plt\n",
        "from google.colab import files\n",
        "data = pd.read_csv('https://raw.githubusercontent.com/voideans/Gender_Classification_DataScience/main/voice.csv')"
      ],
      "metadata": {
        "id": "YdMY-fEH6Uh2"
      },
      "execution_count": 3,
      "outputs": []
    },
    {
      "cell_type": "code",
      "source": [
        "#finding stats of missing values\n",
        "print(data.isnull().sum())\n",
        "print(\"\\ntotal missing values are:\",data.isnull().sum().sum())"
      ],
      "metadata": {
        "colab": {
          "base_uri": "https://localhost:8080/"
        },
        "id": "tjWl2X9G9d0q",
        "outputId": "89fc61ab-6981-415f-a4c0-7760ebff24a6"
      },
      "execution_count": 4,
      "outputs": [
        {
          "output_type": "stream",
          "name": "stdout",
          "text": [
            "meanfreq    0\n",
            "sd          0\n",
            "median      0\n",
            "Q25         0\n",
            "Q75         0\n",
            "IQR         0\n",
            "skew        0\n",
            "kurt        0\n",
            "sp.ent      0\n",
            "sfm         0\n",
            "mode        0\n",
            "centroid    0\n",
            "meanfun     0\n",
            "minfun      0\n",
            "maxfun      0\n",
            "meandom     0\n",
            "mindom      0\n",
            "maxdom      0\n",
            "dfrange     0\n",
            "modindx     0\n",
            "label       0\n",
            "dtype: int64\n",
            "\n",
            "total missing values are: 0\n"
          ]
        }
      ]
    },
    {
      "cell_type": "code",
      "source": [
        "# converting to male=1, female=0\n",
        "data=pd.DataFrame(data)\n",
        "data['label'].replace('female',0,inplace=True)\n",
        "data['label'].replace('male',1,inplace=True)\n",
        "\n",
        "'''\n",
        "# replacing null values with mean of the respective column\n",
        "n=len(data.columns)-1\n",
        "for i in [0,n]:\n",
        "    data.iloc[:,i]=data.iloc[:,i].fillna(data.iloc[:,i].mean())\n",
        "'''\n"
      ],
      "metadata": {
        "colab": {
          "base_uri": "https://localhost:8080/",
          "height": 36
        },
        "id": "0JEueeu_JHBF",
        "outputId": "e67be224-9302-483f-ba9c-ee534a51ddbb"
      },
      "execution_count": 5,
      "outputs": [
        {
          "output_type": "execute_result",
          "data": {
            "text/plain": [
              "'\\n# replacing null values with mean of the respective column\\nn=len(data.columns)-1\\nfor i in [0,n]:\\n    data.iloc[:,i]=data.iloc[:,i].fillna(data.iloc[:,i].mean())\\n'"
            ],
            "application/vnd.google.colaboratory.intrinsic+json": {
              "type": "string"
            }
          },
          "metadata": {},
          "execution_count": 5
        }
      ]
    },
    {
      "cell_type": "code",
      "source": [
        "# pie chart\n",
        "\n",
        "fem = (data['label'] == 0).sum()\n",
        "mal = (data['label'] == 1).sum()\n",
        "# labelp = pd.DataFrame({'label':[mal,fem]},index=['Male','Female'])\n",
        "# plot = labelp.plot.pie(y='label',autopct='%1.1f%%',figsize=(5, 5))\n",
        "# plt.title('Label - gender distribution')\n",
        "# plt.show()\n",
        "\n",
        "val = [[mal],[fem]]\n",
        "lab = ['male','female']\n",
        "plt.pie(val, labels=lab, autopct='%1.1f%%')\n",
        "plt.title('Label - gender distribution')\n",
        "plt.show()"
      ],
      "metadata": {
        "colab": {
          "base_uri": "https://localhost:8080/",
          "height": 319
        },
        "id": "7bX_K66URkRT",
        "outputId": "087f9a01-3b65-405f-9284-64f2e5beea84"
      },
      "execution_count": 40,
      "outputs": [
        {
          "output_type": "stream",
          "name": "stderr",
          "text": [
            "/usr/local/lib/python3.7/dist-packages/ipykernel_launcher.py:12: MatplotlibDeprecationWarning: Non-1D inputs to pie() are currently squeeze()d, but this behavior is deprecated since 3.1 and will be removed in 3.3; pass a 1D array instead.\n",
            "  if sys.path[0] == '':\n"
          ]
        },
        {
          "output_type": "display_data",
          "data": {
            "text/plain": [
              "<Figure size 432x288 with 1 Axes>"
            ],
            "image/png": "[encoded data removed]"
          },
          "metadata": {}
        }
      ]
    },
    {
      "cell_type": "code",
      "source": [
        "# splitting data into test and train\n",
        "\n",
        "from sklearn.model_selection import train_test_split\n",
        "x = data.drop('label',axis=1) \n",
        "y = data['label']\n",
        "x_train, x_test, y_train, y_test = train_test_split(x,y,test_size=0.2,random_state=4)"
      ],
      "metadata": {
        "id": "QnsKXH5UsjSu"
      },
      "execution_count": 42,
      "outputs": []
    },
    {
      "cell_type": "code",
      "source": [
        "# Decision Tree Classifier\n"
      ],
      "metadata": {
        "id": "Su0vt6Nu3Wj0"
      },
      "execution_count": null,
      "outputs": []
    }
  ]
}